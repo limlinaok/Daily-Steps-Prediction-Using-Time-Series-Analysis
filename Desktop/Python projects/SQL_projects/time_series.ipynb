{
 "cells": [
  {
   "cell_type": "code",
   "execution_count": 6,
   "id": "f6c37955",
   "metadata": {},
   "outputs": [
    {
     "name": "stdout",
     "output_type": "stream",
     "text": [
      "         Date  Steps\n",
      "0  2025-09-01   1039\n",
      "1  2025-09-02   5092\n",
      "2  2025-09-03    610\n",
      "3  2025-09-04    641\n",
      "4  2025-09-05   5158\n",
      "5  2025-09-06   1612\n",
      "6  2025-09-07    190\n",
      "7  2025-09-08    724\n",
      "8  2025-09-09   5157\n",
      "9  2025-09-10    243\n",
      "10 2025-09-11   5497\n",
      "11 2025-09-12   3818\n",
      "12 2025-09-13   1697\n",
      "13 2025-09-14   3250\n",
      "14 2025-09-15   5508\n",
      "15 2025-09-16   9158\n",
      "16 2025-09-17    154\n",
      "17 2025-09-18   3148\n",
      "18 2025-09-19   4103\n",
      "19 2025-09-20   2801\n",
      "20 2025-09-21    318\n",
      "21 2025-09-22    580\n",
      "22 2025-09-23   3167\n",
      "23 2025-09-24   1041\n",
      "24 2025-09-25   2941\n",
      "25 2025-09-26   2074\n",
      "26 2025-09-27   2020\n",
      "27 2025-09-28    183\n"
     ]
    }
   ],
   "source": [
    "import pandas as pd\n",
    "\n",
    "# Data extracted from your screenshots\n",
    "data = {\n",
    "    \"Date\": [\n",
    "        \"28 Sep 2025\",\"27 Sep 2025\",\"26 Sep 2025\",\"25 Sep 2025\",\"24 Sep 2025\",\n",
    "        \"23 Sep 2025\",\"22 Sep 2025\",\"21 Sep 2025\",\"20 Sep 2025\",\"19 Sep 2025\",\n",
    "        \"18 Sep 2025\",\"17 Sep 2025\",\"16 Sep 2025\",\"15 Sep 2025\",\"14 Sep 2025\",\n",
    "        \"13 Sep 2025\",\"12 Sep 2025\",\"11 Sep 2025\",\"10 Sep 2025\",\"9 Sep 2025\",\n",
    "        \"8 Sep 2025\",\"7 Sep 2025\",\"6 Sep 2025\",\"5 Sep 2025\",\"4 Sep 2025\",\n",
    "        \"3 Sep 2025\",\"2 Sep 2025\",\"1 Sep 2025\"\n",
    "    ],\n",
    "    \"Steps\": [\n",
    "        183,2020,2074,2941,1041,\n",
    "        3167,580,318,2801,4103,\n",
    "        3148,154,9158,5508,3250,\n",
    "        1697,3818,5497,243,5157,\n",
    "        724,190,1612,5158,641,\n",
    "        610,5092,1039\n",
    "    ]\n",
    "}\n",
    "\n",
    "# Create DataFrame\n",
    "daily_steps = pd.DataFrame(data)\n",
    "\n",
    "# Ensure date column is datetime type\n",
    "daily_steps[\"Date\"] = pd.to_datetime(daily_steps[\"Date\"], format=\"%d %b %Y\")\n",
    "\n",
    "# Sort by date ascending (oldest first)\n",
    "daily_steps = daily_steps.sort_values(\"Date\").reset_index(drop=True)\n",
    "\n",
    "print(daily_steps)\n"
   ]
  },
  {
   "cell_type": "code",
   "execution_count": 8,
   "id": "f26a7987",
   "metadata": {},
   "outputs": [
    {
     "name": "stdout",
     "output_type": "stream",
     "text": [
      "                               SARIMAX Results                                \n",
      "==============================================================================\n",
      "Dep. Variable:                  Steps   No. Observations:                   28\n",
      "Model:                 ARIMA(0, 0, 1)   Log Likelihood                -255.020\n",
      "Date:                Sun, 28 Sep 2025   AIC                            516.040\n",
      "Time:                        18:43:40   BIC                            520.036\n",
      "Sample:                             0   HQIC                           517.262\n",
      "                                 - 28                                         \n",
      "Covariance Type:                  opg                                         \n",
      "==============================================================================\n",
      "                 coef    std err          z      P>|z|      [0.025      0.975]\n",
      "------------------------------------------------------------------------------\n",
      "const       2568.7143    489.633      5.246      0.000    1609.052    3528.377\n",
      "ma.L1         -0.1192      0.258     -0.462      0.644      -0.625       0.387\n",
      "sigma2      4.939e+06   1.87e+06      2.642      0.008    1.28e+06     8.6e+06\n",
      "===================================================================================\n",
      "Ljung-Box (L1) (Q):                   0.00   Jarque-Bera (JB):                 7.99\n",
      "Prob(Q):                              0.99   Prob(JB):                         0.02\n",
      "Heteroskedasticity (H):               0.51   Skew:                             1.12\n",
      "Prob(H) (two-sided):                  0.34   Kurtosis:                         4.34\n",
      "===================================================================================\n",
      "\n",
      "Warnings:\n",
      "[1] Covariance matrix calculated using the outer product of gradients (complex-step).\n"
     ]
    }
   ],
   "source": [
    "from statsmodels.tsa.arima.model import ARIMA\n",
    "\n",
    "# Define MA(1) model\n",
    "model = ARIMA(daily_steps[\"Steps\"], order=(0,0,1))\n",
    "fit = model.fit()\n",
    "\n",
    "print(fit.summary())\n"
   ]
  },
  {
   "cell_type": "code",
   "execution_count": 9,
   "id": "38b8aff2",
   "metadata": {},
   "outputs": [
    {
     "name": "stdout",
     "output_type": "stream",
     "text": [
      "Predicted steps:\n",
      "28    2861.695802\n",
      "29    2568.714301\n",
      "30    2568.714301\n",
      "Name: predicted_mean, dtype: float64\n",
      "Confidence intervals:\n",
      "    lower Steps  upper Steps\n",
      "28 -1493.912159  7217.303763\n",
      "29 -1817.730047  6955.158649\n",
      "30 -1817.730047  6955.158649\n"
     ]
    }
   ],
   "source": [
    "# Forecast next 3 days\n",
    "forecast = fit.get_forecast(steps=3)\n",
    "\n",
    "# Mean predictions\n",
    "print(\"Predicted steps:\")\n",
    "print(forecast.predicted_mean)\n",
    "\n",
    "# 95% confidence interval\n",
    "print(\"Confidence intervals:\")\n",
    "print(forecast.conf_int())\n"
   ]
  },
  {
   "cell_type": "code",
   "execution_count": 10,
   "id": "e73c922a",
   "metadata": {},
   "outputs": [
    {
     "name": "stdout",
     "output_type": "stream",
     "text": [
      "                               SARIMAX Results                                \n",
      "==============================================================================\n",
      "Dep. Variable:                  Steps   No. Observations:                   28\n",
      "Model:                 ARIMA(1, 0, 0)   Log Likelihood                -255.043\n",
      "Date:                Sun, 28 Sep 2025   AIC                            516.086\n",
      "Time:                        19:12:11   BIC                            520.082\n",
      "Sample:                             0   HQIC                           517.308\n",
      "                                 - 28                                         \n",
      "Covariance Type:                  opg                                         \n",
      "==============================================================================\n",
      "                 coef    std err          z      P>|z|      [0.025      0.975]\n",
      "------------------------------------------------------------------------------\n",
      "const       2568.7143    492.719      5.213      0.000    1603.003    3534.426\n",
      "ar.L1         -0.1021      0.244     -0.418      0.676      -0.581       0.377\n",
      "sigma2      4.866e+06   1.76e+06      2.768      0.006    1.42e+06    8.31e+06\n",
      "===================================================================================\n",
      "Ljung-Box (L1) (Q):                   0.01   Jarque-Bera (JB):                 7.40\n",
      "Prob(Q):                              0.94   Prob(JB):                         0.02\n",
      "Heteroskedasticity (H):               0.50   Skew:                             1.10\n",
      "Prob(H) (two-sided):                  0.32   Kurtosis:                         4.22\n",
      "===================================================================================\n",
      "\n",
      "Warnings:\n",
      "[1] Covariance matrix calculated using the outer product of gradients (complex-step).\n"
     ]
    }
   ],
   "source": [
    "from statsmodels.tsa.arima.model import ARIMA\n",
    "\n",
    "# Fit AR(1) model\n",
    "ar_model = ARIMA(daily_steps[\"Steps\"], order=(1,0,0))\n",
    "ar_fit = ar_model.fit()\n",
    "\n",
    "print(ar_fit.summary())\n"
   ]
  },
  {
   "cell_type": "code",
   "execution_count": 11,
   "id": "c76f02ac",
   "metadata": {},
   "outputs": [
    {
     "name": "stdout",
     "output_type": "stream",
     "text": [
      "Predicted steps:\n",
      "28    2812.271554\n",
      "29    2543.849564\n",
      "30    2571.252730\n",
      "Name: predicted_mean, dtype: float64\n",
      "95% CI:\n",
      "    lower Steps  upper Steps\n",
      "28 -1511.281190  7135.824297\n",
      "29 -1802.175550  6889.874677\n",
      "30 -1775.005987  6917.511446\n"
     ]
    }
   ],
   "source": [
    "# Forecast next 3 days\n",
    "ar_forecast = ar_fit.get_forecast(steps=3)\n",
    "\n",
    "print(\"Predicted steps:\")\n",
    "print(ar_forecast.predicted_mean)\n",
    "\n",
    "print(\"95% CI:\")\n",
    "print(ar_forecast.conf_int())\n"
   ]
  },
  {
   "cell_type": "code",
   "execution_count": 13,
   "id": "65ed0c46",
   "metadata": {},
   "outputs": [
    {
     "name": "stdout",
     "output_type": "stream",
     "text": [
      "                               SARIMAX Results                                \n",
      "==============================================================================\n",
      "Dep. Variable:                  Steps   No. Observations:                   28\n",
      "Model:                 ARIMA(1, 1, 0)   Log Likelihood                -253.535\n",
      "Date:                Sun, 28 Sep 2025   AIC                            511.070\n",
      "Time:                        19:21:00   BIC                            513.661\n",
      "Sample:                             0   HQIC                           511.840\n",
      "                                 - 28                                         \n",
      "Covariance Type:                  opg                                         \n",
      "==============================================================================\n",
      "                 coef    std err          z      P>|z|      [0.025      0.975]\n",
      "------------------------------------------------------------------------------\n",
      "ar.L1         -0.4695      0.204     -2.306      0.021      -0.869      -0.071\n",
      "sigma2      7.931e+06   2.39e+06      3.320      0.001    3.25e+06    1.26e+07\n",
      "===================================================================================\n",
      "Ljung-Box (L1) (Q):                   1.78   Jarque-Bera (JB):                 0.09\n",
      "Prob(Q):                              0.18   Prob(JB):                         0.95\n",
      "Heteroskedasticity (H):               0.26   Skew:                            -0.09\n",
      "Prob(H) (two-sided):                  0.06   Kurtosis:                         2.78\n",
      "===================================================================================\n",
      "\n",
      "Warnings:\n",
      "[1] Covariance matrix calculated using the outer product of gradients (complex-step).\n"
     ]
    }
   ],
   "source": [
    "model = ARIMA(daily_steps[\"Steps\"], order=(1,1,0))   # ARIMA(1,1,0)\n",
    "fit = model.fit()\n",
    "print(fit.summary())\n"
   ]
  },
  {
   "cell_type": "code",
   "execution_count": 15,
   "id": "25f2a847",
   "metadata": {},
   "outputs": [
    {
     "name": "stdout",
     "output_type": "stream",
     "text": [
      "Predicted steps:\n",
      "28    1045.539541\n",
      "29     640.545279\n",
      "30     830.705085\n",
      "Name: predicted_mean, dtype: float64\n",
      "95% CI:\n",
      "    lower Steps  upper Steps\n",
      "28 -4473.980908  6565.059989\n",
      "29 -5607.471302  6888.561859\n",
      "30 -6667.079027  8328.489198\n"
     ]
    }
   ],
   "source": [
    "# Forecast next 3 days (Sep 29, 30, Oct 1)\n",
    "forecast = fit.get_forecast(steps=3)\n",
    "\n",
    "# Mean predictions\n",
    "print(\"Predicted steps:\")\n",
    "print(forecast.predicted_mean)\n",
    "forecast.predicted_mean.clip(lower=0)\n",
    "\n",
    "\n",
    "# Confidence interval (95%)\n",
    "print(\"95% CI:\")\n",
    "print(forecast.conf_int())\n"
   ]
  }
 ],
 "metadata": {
  "kernelspec": {
   "display_name": "Python (SQL_projects)",
   "language": "python",
   "name": "sql_projects"
  },
  "language_info": {
   "codemirror_mode": {
    "name": "ipython",
    "version": 3
   },
   "file_extension": ".py",
   "mimetype": "text/x-python",
   "name": "python",
   "nbconvert_exporter": "python",
   "pygments_lexer": "ipython3",
   "version": "3.13.6"
  }
 },
 "nbformat": 4,
 "nbformat_minor": 5
}
